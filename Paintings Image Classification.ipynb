{
 "cells": [
  {
   "cell_type": "code",
   "execution_count": 1,
   "id": "441b99ef-70fb-4a55-8488-f8ab8caa2a94",
   "metadata": {},
   "outputs": [],
   "source": [
    "import tensorflow as tf\n",
    "from tensorflow import keras\n",
    "from tensorflow.keras import layers\n",
    "import pandas as pd\n",
    "import os\n",
    "import matplotlib.pyplot as plt\n",
    "import numpy as np\n",
    "from tensorflow.keras.preprocessing.image import ImageDataGenerator\n",
    "from tensorflow.keras.preprocessing.image import load_img, img_to_array"
   ]
  },
  {
   "cell_type": "code",
   "execution_count": 2,
   "id": "895825ef-ccc9-48b9-9fa6-9f69c56820ed",
   "metadata": {},
   "outputs": [],
   "source": [
    "directory = r'C:\\Users\\Desktop\\Painting\\Train'"
   ]
  },
  {
   "cell_type": "code",
   "execution_count": 3,
   "id": "61c908ac-34a2-42d3-b1b7-b13b35856137",
   "metadata": {},
   "outputs": [],
   "source": [
    "datagen = ImageDataGenerator(\n",
    "    rescale=1.0/255.,\n",
    "    horizontal_flip=True,\n",
    "    validation_split = 0.2    \n",
    ")"
   ]
  },
  {
   "cell_type": "code",
   "execution_count": 4,
   "id": "acf1b3b0-2ad1-4e31-a6e2-291a95b6947e",
   "metadata": {},
   "outputs": [
    {
     "name": "stdout",
     "output_type": "stream",
     "text": [
      "Found 880 images belonging to 10 classes.\n",
      "Found 220 images belonging to 10 classes.\n"
     ]
    }
   ],
   "source": [
    "image_height = 150\n",
    "image_width = 150\n",
    "batch_size = 28\n",
    "num_classes = 10\n",
    "\n",
    "train_batches = datagen.flow_from_directory(\n",
    "    directory,\n",
    "    subset = 'training',\n",
    "    target_size=(image_height, image_width),\n",
    "    batch_size=batch_size,\n",
    "    class_mode = 'categorical'\n",
    ")\n",
    "\n",
    "validation_batches = datagen.flow_from_directory(\n",
    "    directory,\n",
    "    subset = 'validation',\n",
    "    target_size=(image_height, image_width),\n",
    "    batch_size=batch_size,\n",
    "    class_mode = 'categorical'\n",
    ")"
   ]
  },
  {
   "cell_type": "code",
   "execution_count": 5,
   "id": "79aefba1-4b85-4be6-a10c-ad29e2b8d2a1",
   "metadata": {},
   "outputs": [],
   "source": [
    "train_dataset = tf.data.Dataset.from_generator(\n",
    "    lambda: train_batches,\n",
    "    output_types=(tf.float32, tf.float32),\n",
    "    output_shapes=([None, 150, 150, 3], [None, num_classes])\n",
    ")\n",
    "\n",
    "validation_dataset = tf.data.Dataset.from_generator(\n",
    "    lambda: validation_batches,\n",
    "    output_types=(tf.float32, tf.float32),\n",
    "    output_shapes=([None, 150, 150, 3], [None, num_classes])\n",
    ")"
   ]
  },
  {
   "cell_type": "code",
   "execution_count": 6,
   "id": "ba791ca2-a777-489d-97d5-2a2cec19899f",
   "metadata": {},
   "outputs": [],
   "source": [
    "train_dataset = train_dataset.repeat(25)\n",
    "validation_dataset = validation_dataset.repeat(25)"
   ]
  },
  {
   "cell_type": "code",
   "execution_count": 7,
   "id": "fed2731e-d72f-4644-8b08-24e5182adb91",
   "metadata": {},
   "outputs": [],
   "source": [
    "model = tf.keras.Sequential([\n",
    "    tf.keras.layers.Conv2D(32, (3,3), activation='relu', input_shape=(150, 150, 3)),\n",
    "    tf.keras.layers.MaxPooling2D(2,2),\n",
    "    tf.keras.layers.Dropout(0.2),\n",
    "    tf.keras.layers.Conv2D(64, (3,3), activation='relu'),\n",
    "    tf.keras.layers.MaxPooling2D(2,2),\n",
    "    tf.keras.layers.Dropout(0.2),\n",
    "    tf.keras.layers.Conv2D(128, (3,3), activation='relu'),\n",
    "    tf.keras.layers.MaxPooling2D(2,2),\n",
    "    tf.keras.layers.Dropout(0.2),\n",
    "    tf.keras.layers.Conv2D(256, (3,3), activation='relu'),\n",
    "    tf.keras.layers.MaxPooling2D(2,2),\n",
    "    tf.keras.layers.Dropout(0.2),\n",
    "    tf.keras.layers.Conv2D(512, (3,3), activation='relu'),\n",
    "    tf.keras.layers.MaxPooling2D(2,2),\n",
    "    tf.keras.layers.Dropout(0.2),\n",
    "    tf.keras.layers.Flatten(),\n",
    "    tf.keras.layers.Dense(512, activation='relu'),\n",
    "    tf.keras.layers.Dense(num_classes, activation='softmax')\n",
    "])"
   ]
  },
  {
   "cell_type": "code",
   "execution_count": 9,
   "id": "f449f315-fd31-404d-bfc4-f9106c91fae2",
   "metadata": {},
   "outputs": [
    {
     "name": "stdout",
     "output_type": "stream",
     "text": [
      "Epoch 1/50\n",
      "150/150 [==============================] - 51s 340ms/step - loss: 1.8973 - accuracy: 0.2788 - val_loss: 1.9129 - val_accuracy: 0.3149\n",
      "Epoch 2/50\n",
      "150/150 [==============================] - 52s 344ms/step - loss: 1.5795 - accuracy: 0.4141 - val_loss: 1.8137 - val_accuracy: 0.3910\n",
      "Epoch 3/50\n",
      "150/150 [==============================] - 52s 347ms/step - loss: 1.3533 - accuracy: 0.5182 - val_loss: 1.6735 - val_accuracy: 0.4172\n",
      "Epoch 4/50\n",
      "150/150 [==============================] - 53s 354ms/step - loss: 1.1366 - accuracy: 0.5967 - val_loss: 1.5803 - val_accuracy: 0.4617\n",
      "Epoch 5/50\n",
      "150/150 [==============================] - 54s 359ms/step - loss: 0.9404 - accuracy: 0.6646 - val_loss: 1.6230 - val_accuracy: 0.5039\n",
      "Epoch 6/50\n",
      "150/150 [==============================] - 55s 366ms/step - loss: 0.7498 - accuracy: 0.7250 - val_loss: 1.8585 - val_accuracy: 0.4952\n",
      "Epoch 7/50\n",
      "150/150 [==============================] - 63s 424ms/step - loss: 0.5618 - accuracy: 0.8051 - val_loss: 2.0623 - val_accuracy: 0.4981\n",
      "Epoch 8/50\n",
      "150/150 [==============================] - 69s 459ms/step - loss: 0.4366 - accuracy: 0.8432 - val_loss: 2.3343 - val_accuracy: 0.5126\n",
      "Epoch 9/50\n",
      "150/150 [==============================] - 67s 446ms/step - loss: 0.3575 - accuracy: 0.8755 - val_loss: 2.1863 - val_accuracy: 0.5489\n",
      "Epoch 10/50\n",
      "150/150 [==============================] - 66s 440ms/step - loss: 0.2681 - accuracy: 0.9093 - val_loss: 2.5251 - val_accuracy: 0.5189\n",
      "Epoch 11/50\n",
      "150/150 [==============================] - 66s 444ms/step - loss: 0.2233 - accuracy: 0.9245 - val_loss: 2.4382 - val_accuracy: 0.5494\n",
      "Epoch 12/50\n",
      "150/150 [==============================] - 65s 432ms/step - loss: 0.1999 - accuracy: 0.9352 - val_loss: 2.6543 - val_accuracy: 0.5281\n",
      "Epoch 13/50\n",
      "150/150 [==============================] - 65s 434ms/step - loss: 0.1381 - accuracy: 0.9505 - val_loss: 2.9761 - val_accuracy: 0.5189\n",
      "Epoch 14/50\n",
      "150/150 [==============================] - 64s 429ms/step - loss: 0.1008 - accuracy: 0.9635 - val_loss: 2.9524 - val_accuracy: 0.5315\n",
      "Epoch 15/50\n",
      "150/150 [==============================] - 65s 436ms/step - loss: 0.1400 - accuracy: 0.9529 - val_loss: 2.5982 - val_accuracy: 0.5383\n",
      "Epoch 16/50\n",
      "150/150 [==============================] - 66s 444ms/step - loss: 0.1451 - accuracy: 0.9534 - val_loss: 2.5539 - val_accuracy: 0.5218\n",
      "Epoch 17/50\n",
      "150/150 [==============================] - 68s 456ms/step - loss: 0.0716 - accuracy: 0.9763 - val_loss: 2.9254 - val_accuracy: 0.5242\n",
      "Epoch 18/50\n",
      "150/150 [==============================] - 66s 444ms/step - loss: 0.0936 - accuracy: 0.9682 - val_loss: 3.2182 - val_accuracy: 0.5339\n",
      "Epoch 19/50\n",
      "150/150 [==============================] - 66s 443ms/step - loss: 0.1114 - accuracy: 0.9643 - val_loss: 3.1372 - val_accuracy: 0.5392\n",
      "Epoch 20/50\n",
      "150/150 [==============================] - 68s 454ms/step - loss: 0.0923 - accuracy: 0.9700 - val_loss: 2.9570 - val_accuracy: 0.5257\n",
      "Epoch 21/50\n",
      "150/150 [==============================] - 71s 472ms/step - loss: 0.0627 - accuracy: 0.9806 - val_loss: 3.2997 - val_accuracy: 0.5349\n",
      "Epoch 22/50\n",
      "150/150 [==============================] - 78s 519ms/step - loss: 0.0941 - accuracy: 0.9699 - val_loss: 2.6503 - val_accuracy: 0.5436\n",
      "Epoch 23/50\n",
      "150/150 [==============================] - 71s 477ms/step - loss: 0.0347 - accuracy: 0.9889 - val_loss: 2.9042 - val_accuracy: 0.5625\n",
      "Epoch 24/50\n",
      "150/150 [==============================] - 88s 587ms/step - loss: 0.0536 - accuracy: 0.9837 - val_loss: 2.9888 - val_accuracy: 0.5339\n",
      "Epoch 25/50\n",
      "150/150 [==============================] - 82s 548ms/step - loss: 0.1177 - accuracy: 0.9636 - val_loss: 2.8190 - val_accuracy: 0.5392\n",
      "Epoch 26/50\n",
      "150/150 [==============================] - 80s 532ms/step - loss: 0.0544 - accuracy: 0.9840 - val_loss: 3.4487 - val_accuracy: 0.5475\n",
      "Epoch 27/50\n",
      "150/150 [==============================] - 81s 543ms/step - loss: 0.0543 - accuracy: 0.9816 - val_loss: 3.1994 - val_accuracy: 0.5199\n",
      "Epoch 28/50\n",
      "150/150 [==============================] - 90s 599ms/step - loss: 0.1091 - accuracy: 0.9667 - val_loss: 2.8861 - val_accuracy: 0.5349\n",
      "Epoch 29/50\n",
      "150/150 [==============================] - 75s 504ms/step - loss: 0.0702 - accuracy: 0.9791 - val_loss: 3.4966 - val_accuracy: 0.5417\n",
      "Epoch 30/50\n",
      "150/150 [==============================] - 75s 498ms/step - loss: 0.0992 - accuracy: 0.9686 - val_loss: 2.6980 - val_accuracy: 0.5499\n",
      "Epoch 31/50\n",
      "150/150 [==============================] - 77s 515ms/step - loss: 0.0417 - accuracy: 0.9864 - val_loss: 3.0359 - val_accuracy: 0.5596\n",
      "Epoch 32/50\n",
      "150/150 [==============================] - 127s 853ms/step - loss: 0.0250 - accuracy: 0.9917 - val_loss: 3.2398 - val_accuracy: 0.5334\n",
      "Epoch 33/50\n",
      "150/150 [==============================] - 188s 1s/step - loss: 0.0542 - accuracy: 0.9821 - val_loss: 3.3102 - val_accuracy: 0.5528\n",
      "Epoch 34/50\n",
      "150/150 [==============================] - 163s 1s/step - loss: 0.0731 - accuracy: 0.9752 - val_loss: 3.7829 - val_accuracy: 0.5300\n",
      "Epoch 35/50\n",
      "150/150 [==============================] - 158s 1s/step - loss: 0.0576 - accuracy: 0.9794 - val_loss: 3.2386 - val_accuracy: 0.5620\n",
      "Epoch 36/50\n",
      "150/150 [==============================] - 156s 1s/step - loss: 0.0550 - accuracy: 0.9857 - val_loss: 3.2640 - val_accuracy: 0.5722\n",
      "Epoch 37/50\n",
      "150/150 [==============================] - 163s 1s/step - loss: 0.0681 - accuracy: 0.9779 - val_loss: 3.9221 - val_accuracy: 0.5325\n",
      "Epoch 38/50\n",
      "150/150 [==============================] - 170s 1s/step - loss: 0.0780 - accuracy: 0.9767 - val_loss: 3.5436 - val_accuracy: 0.5417\n",
      "Epoch 39/50\n",
      "150/150 [==============================] - 169s 1s/step - loss: 0.0619 - accuracy: 0.9816 - val_loss: 3.5302 - val_accuracy: 0.5591\n",
      "Epoch 40/50\n",
      "150/150 [==============================] - 172s 1s/step - loss: 0.0866 - accuracy: 0.9731 - val_loss: 3.6905 - val_accuracy: 0.5199\n",
      "Epoch 41/50\n",
      "150/150 [==============================] - 156s 1s/step - loss: 0.0905 - accuracy: 0.9718 - val_loss: 3.3676 - val_accuracy: 0.5426\n",
      "Epoch 42/50\n",
      "150/150 [==============================] - 77s 514ms/step - loss: 0.0579 - accuracy: 0.9828 - val_loss: 3.3229 - val_accuracy: 0.5499\n",
      "Epoch 43/50\n",
      "150/150 [==============================] - 74s 495ms/step - loss: 0.0190 - accuracy: 0.9932 - val_loss: 3.7310 - val_accuracy: 0.5436\n",
      "Epoch 44/50\n",
      "150/150 [==============================] - 77s 516ms/step - loss: 0.0370 - accuracy: 0.9869 - val_loss: 3.5539 - val_accuracy: 0.5422\n",
      "Epoch 45/50\n",
      "150/150 [==============================] - 71s 475ms/step - loss: 0.0241 - accuracy: 0.9932 - val_loss: 3.5966 - val_accuracy: 0.6003\n",
      "Epoch 46/50\n",
      "150/150 [==============================] - 72s 481ms/step - loss: 0.0080 - accuracy: 0.9966 - val_loss: 3.9952 - val_accuracy: 0.5383\n",
      "Epoch 47/50\n",
      "150/150 [==============================] - 72s 485ms/step - loss: 0.0485 - accuracy: 0.9869 - val_loss: 4.2091 - val_accuracy: 0.5121\n",
      "Epoch 48/50\n",
      "150/150 [==============================] - 73s 490ms/step - loss: 0.1337 - accuracy: 0.9672 - val_loss: 3.3525 - val_accuracy: 0.5063\n",
      "Epoch 49/50\n",
      "150/150 [==============================] - 73s 489ms/step - loss: 0.0713 - accuracy: 0.9775 - val_loss: 3.6246 - val_accuracy: 0.5184\n",
      "Epoch 50/50\n",
      "150/150 [==============================] - 74s 492ms/step - loss: 0.0691 - accuracy: 0.9811 - val_loss: 3.7850 - val_accuracy: 0.5126\n"
     ]
    }
   ],
   "source": [
    "model.compile(optimizer='adam',\n",
    "              loss='categorical_crossentropy',\n",
    "              metrics=['accuracy'])\n",
    "\n",
    "history= model.fit(\n",
    "    train_dataset, \n",
    "    validation_data=validation_dataset, \n",
    "    epochs=50, \n",
    "    steps_per_epoch= 150, \n",
    "    validation_steps= 75\n",
    "    # verbose=2\n",
    ")"
   ]
  },
  {
   "cell_type": "code",
   "execution_count": 10,
   "id": "3555a82f-9df5-4d87-be6e-11b998e6c398",
   "metadata": {},
   "outputs": [
    {
     "name": "stdout",
     "output_type": "stream",
     "text": [
      "1/1 [==============================] - 0s 82ms/step\n",
      "1/1 [==============================] - 0s 12ms/step\n",
      "1/1 [==============================] - 0s 13ms/step\n",
      "1/1 [==============================] - 0s 11ms/step\n",
      "1/1 [==============================] - 0s 11ms/step\n",
      "1/1 [==============================] - 0s 13ms/step\n",
      "1/1 [==============================] - 0s 11ms/step\n",
      "1/1 [==============================] - 0s 11ms/step\n",
      "1/1 [==============================] - 0s 11ms/step\n",
      "1/1 [==============================] - 0s 11ms/step\n",
      "Image: Pablo_Picasso_109.jpg, Predicted Class: Vincent_van_Gogh\n",
      "Image: Rembrandt_180.jpg, Predicted Class: Rembrandt\n",
      "Image: Paul_Gauguin_229.jpg, Predicted Class: Vincent_van_Gogh\n",
      "Image: Titian_107.jpg, Predicted Class: Titian\n",
      "Image: Amedeo_Modigliani_71.jpg, Predicted Class: Edgar_Degas\n",
      "Image: Rene_Magritte_3.jpg, Predicted Class: Vincent_van_Gogh\n",
      "Image: Alfred_Sisley_253.jpg, Predicted Class: Alfred_Sisley\n",
      "Image: Vincent_van_Gogh_76.jpg, Predicted Class: Vincent_van_Gogh\n",
      "Image: Pierre-Auguste_Renoir_40.jpg, Predicted Class: Pierre-Auguste_Renoir\n",
      "Image: Edgar_Degas_116.jpg, Predicted Class: Pablo_Picasso\n"
     ]
    }
   ],
   "source": [
    "test_images = r\"C:\\Users\\Desktop\\Painting\\Validation\\Test\"\n",
    "\n",
    "predictions = []\n",
    "\n",
    "for img in os.listdir(test_images):\n",
    "    image = load_img(os.path.join(test_images, img), target_size=(150, 150))\n",
    "\n",
    "    image = img_to_array(image)\n",
    "\n",
    "    image = np.expand_dims(image, axis=0)\n",
    "\n",
    "    image = image / 255.0\n",
    "\n",
    "    prediction = model.predict(image)\n",
    "\n",
    "    class_name = list(train_batches.class_indices.keys())[list(train_batches.class_indices.values()).index(np.argmax(prediction))]\n",
    "\n",
    "    predictions.append({img: class_name})\n",
    "\n",
    "for prediction in predictions:\n",
    "    for img_name, class_name in prediction.items():\n",
    "        print(f\"Image: {img_name}, Predicted Class: {class_name}\")"
   ]
  },
  {
   "cell_type": "code",
   "execution_count": 12,
   "id": "ac61ef3e-bcf3-4c2a-a755-85651e2d74b0",
   "metadata": {},
   "outputs": [
    {
     "data": {
      "text/plain": [
       "<matplotlib.legend.Legend at 0x13f5b3c10>"
      ]
     },
     "execution_count": 12,
     "metadata": {},
     "output_type": "execute_result"
    },
    {
     "data": {
      "image/png": "[encoded data removed]",
      "text/plain": [
       "<Figure size 500x300 with 1 Axes>"
      ]
     },
     "metadata": {},
     "output_type": "display_data"
    }
   ],
   "source": [
    "plt.figure(figsize=(5, 3))\n",
    "\n",
    "epochs_range= range(50)\n",
    "\n",
    "plt.plot(epochs_range, history.history['accuracy'])\n",
    "\n",
    "plt.plot(epochs_range, history.history['val_accuracy'])\n",
    "\n",
    "plt.legend(['Training Accuracy', 'Validation_Accuracy'])"
   ]
  },
  {
   "cell_type": "code",
   "execution_count": null,
   "id": "1b668b00-eb0a-4df5-9fc7-22e256016144",
   "metadata": {},
   "outputs": [],
   "source": []
  }
 ],
 "metadata": {
  "kernelspec": {
   "display_name": "Python 3 (ipykernel)",
   "language": "python",
   "name": "python3"
  },
  "language_info": {
   "codemirror_mode": {
    "name": "ipython",
    "version": 3
   },
   "file_extension": ".py",
   "mimetype": "text/x-python",
   "name": "python",
   "nbconvert_exporter": "python",
   "pygments_lexer": "ipython3",
   "version": "3.11.5"
  }
 },
 "nbformat": 4,
 "nbformat_minor": 5
}
